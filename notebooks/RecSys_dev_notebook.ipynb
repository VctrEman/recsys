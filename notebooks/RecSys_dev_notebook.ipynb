{
 "cells": [
  {
   "cell_type": "code",
   "execution_count": 3,
   "id": "ad7d56c4",
   "metadata": {},
   "outputs": [],
   "source": [
    "import os\n",
    "import pandas as pd\n",
    "import numpy as np\n",
    "from scipy.sparse import csr_matrix\n",
    "from sklearn.neighbors import NearestNeighbors"
   ]
  },
  {
   "cell_type": "code",
   "execution_count": 4,
   "id": "ec559247",
   "metadata": {},
   "outputs": [
    {
     "data": {
      "text/plain": [
       "'C:\\\\Users\\\\Victor\\\\Documents\\\\Alura\\\\ml-latest'"
      ]
     },
     "execution_count": 4,
     "metadata": {},
     "output_type": "execute_result"
    }
   ],
   "source": [
    "os.chdir(r'C:\\Users\\Victor\\Documents\\Alura\\ml-latest')\n",
    "os.getcwd()"
   ]
  },
  {
   "cell_type": "code",
   "execution_count": 82,
   "id": "872e2072",
   "metadata": {},
   "outputs": [],
   "source": [
    "#processed dataset\n",
    "#pd.read_parquet(\"movies.parquet\").to_pickle(\"movies.pkl\").head(1000000)\n",
    "#ratings.drop('timestamp',axis=1).to_parquet('ratings.parquet')"
   ]
  },
  {
   "cell_type": "code",
   "execution_count": 191,
   "id": "fe2a8f87",
   "metadata": {},
   "outputs": [
    {
     "name": "stdout",
     "output_type": "stream",
     "text": [
      "Wall time: 1.79 s\n"
     ]
    }
   ],
   "source": [
    "%%time\n",
    "#movies = pd.read_parquet(\"movies.parquet\")\n",
    "#ratings = pd.read_parquet(\"ratings.parquet\").sample(frac = 0.001)\n",
    "\n",
    "movies = pd.read_pickle(\"movies.pkl\")\n",
    "ratings = pd.read_pickle(\"ratings.pkl\").head(1000000)#sample(frac = 0.001)\n",
    "\n",
    "#movies = pd.read_csv(r\"C:\\Users\\Victor\\Documents\\Alura\\ml-latest-small\\movies.csv\")\n",
    "#ratings = pd.read_csv(r\"C:\\Users\\Victor\\Documents\\Alura\\ml-latest-small\\ratings.csv\")#.sample(frac = 0.001)"
   ]
  },
  {
   "cell_type": "code",
   "execution_count": 213,
   "id": "ff550b80",
   "metadata": {},
   "outputs": [
    {
     "name": "stdout",
     "output_type": "stream",
     "text": [
      "Wall time: 27.2 s\n"
     ]
    }
   ],
   "source": [
    "%%time\n",
    "final_dataset = ratings.pivot(index='movieId',columns='userId',values='rating')\n",
    "final_dataset.fillna(0,inplace=True)\n",
    "no_user_voted = ratings.groupby('movieId')['rating'].agg('count')\n",
    "no_movies_voted = ratings.groupby('userId')['rating'].agg('count')\n",
    "final_dataset = final_dataset.loc[no_user_voted[no_user_voted > 10].index,:]\n",
    "final_dataset=final_dataset.loc[:,no_movies_voted[no_movies_voted > 100].index]\n",
    "final_dataset.to_pickle(\"FinalMoviesDataset.pkl\")"
   ]
  },
  {
   "cell_type": "code",
   "execution_count": 214,
   "id": "1d94a3ce",
   "metadata": {},
   "outputs": [
    {
     "name": "stdout",
     "output_type": "stream",
     "text": [
      "Wall time: 234 ms\n"
     ]
    },
    {
     "data": {
      "text/plain": [
       "NearestNeighbors(algorithm='brute', metric='cosine', n_jobs=-1, n_neighbors=20)"
      ]
     },
     "execution_count": 214,
     "metadata": {},
     "output_type": "execute_result"
    }
   ],
   "source": [
    "%%time\n",
    "csr_data = csr_matrix(final_dataset.values)\n",
    "final_dataset.reset_index(inplace=True)\n",
    "knn = NearestNeighbors(metric='cosine', algorithm='brute', n_neighbors=20, n_jobs=-1)\n",
    "knn.fit(csr_data)"
   ]
  },
  {
   "cell_type": "code",
   "execution_count": 215,
   "id": "a717b00e",
   "metadata": {},
   "outputs": [
    {
     "name": "stdout",
     "output_type": "stream",
     "text": [
      "Wall time: 569 ms\n"
     ]
    },
    {
     "data": {
      "text/html": [
       "<div>\n",
       "<style scoped>\n",
       "    .dataframe tbody tr th:only-of-type {\n",
       "        vertical-align: middle;\n",
       "    }\n",
       "\n",
       "    .dataframe tbody tr th {\n",
       "        vertical-align: top;\n",
       "    }\n",
       "\n",
       "    .dataframe thead th {\n",
       "        text-align: right;\n",
       "    }\n",
       "</style>\n",
       "<table border=\"1\" class=\"dataframe\">\n",
       "  <thead>\n",
       "    <tr style=\"text-align: right;\">\n",
       "      <th></th>\n",
       "      <th>Title</th>\n",
       "      <th>Distance</th>\n",
       "    </tr>\n",
       "  </thead>\n",
       "  <tbody>\n",
       "    <tr>\n",
       "      <th>1</th>\n",
       "      <td>Star Wars: Episode VI - Return of the Jedi (1983)</td>\n",
       "      <td>0.278823</td>\n",
       "    </tr>\n",
       "    <tr>\n",
       "      <th>2</th>\n",
       "      <td>Pulp Fiction (1994)</td>\n",
       "      <td>0.269210</td>\n",
       "    </tr>\n",
       "    <tr>\n",
       "      <th>3</th>\n",
       "      <td>Lord of the Rings: The Return of the King, The...</td>\n",
       "      <td>0.258509</td>\n",
       "    </tr>\n",
       "    <tr>\n",
       "      <th>4</th>\n",
       "      <td>Sixth Sense, The (1999)</td>\n",
       "      <td>0.258391</td>\n",
       "    </tr>\n",
       "    <tr>\n",
       "      <th>5</th>\n",
       "      <td>Gladiator (2000)</td>\n",
       "      <td>0.251706</td>\n",
       "    </tr>\n",
       "    <tr>\n",
       "      <th>6</th>\n",
       "      <td>Star Wars: Episode IV - A New Hope (1977)</td>\n",
       "      <td>0.249922</td>\n",
       "    </tr>\n",
       "    <tr>\n",
       "      <th>7</th>\n",
       "      <td>Star Wars: Episode V - The Empire Strikes Back...</td>\n",
       "      <td>0.249899</td>\n",
       "    </tr>\n",
       "    <tr>\n",
       "      <th>8</th>\n",
       "      <td>Lord of the Rings: The Two Towers, The (2002)</td>\n",
       "      <td>0.238238</td>\n",
       "    </tr>\n",
       "    <tr>\n",
       "      <th>9</th>\n",
       "      <td>Fight Club (1999)</td>\n",
       "      <td>0.215279</td>\n",
       "    </tr>\n",
       "    <tr>\n",
       "      <th>10</th>\n",
       "      <td>Lord of the Rings: The Fellowship of the Ring,...</td>\n",
       "      <td>0.213009</td>\n",
       "    </tr>\n",
       "  </tbody>\n",
       "</table>\n",
       "</div>"
      ],
      "text/plain": [
       "                                                Title  Distance\n",
       "1   Star Wars: Episode VI - Return of the Jedi (1983)  0.278823\n",
       "2                                 Pulp Fiction (1994)  0.269210\n",
       "3   Lord of the Rings: The Return of the King, The...  0.258509\n",
       "4                             Sixth Sense, The (1999)  0.258391\n",
       "5                                    Gladiator (2000)  0.251706\n",
       "6           Star Wars: Episode IV - A New Hope (1977)  0.249922\n",
       "7   Star Wars: Episode V - The Empire Strikes Back...  0.249899\n",
       "8       Lord of the Rings: The Two Towers, The (2002)  0.238238\n",
       "9                                   Fight Club (1999)  0.215279\n",
       "10  Lord of the Rings: The Fellowship of the Ring,...  0.213009"
      ]
     },
     "execution_count": 215,
     "metadata": {},
     "output_type": "execute_result"
    }
   ],
   "source": [
    "%%time\n",
    "def get_movie_recommendation(movie_name):\n",
    "    n_movies_to_reccomend = 10\n",
    "    movie_list = movies[movies['title'].str.contains(movie_name)]  \n",
    "    if len(movie_list):        \n",
    "        movie_idx= movie_list.iloc[0]['movieId']\n",
    "        movie_idx = final_dataset[final_dataset['movieId'] == movie_idx].index[0]\n",
    "        distances , indices = knn.kneighbors(csr_data[movie_idx],n_neighbors=n_movies_to_reccomend+1)    \n",
    "        rec_movie_indices = sorted(list(zip(indices.squeeze().tolist(),distances.squeeze().tolist())),key=lambda x: x[1])[:0:-1]\n",
    "        recommend_frame = []\n",
    "        for val in rec_movie_indices:\n",
    "            movie_idx = final_dataset.iloc[val[0]]['movieId']\n",
    "            idx = movies[movies['movieId'] == movie_idx].index\n",
    "            recommend_frame.append({'Title':movies.iloc[idx]['title'].values[0],'Distance':val[1]})\n",
    "        df = pd.DataFrame(recommend_frame,index=range(1,n_movies_to_reccomend+1))\n",
    "        return df\n",
    "    else:\n",
    "        return \"No movies found. Please check your input\"\n",
    "    \n",
    "get_movie_recommendation('Matrix')"
   ]
  },
  {
   "cell_type": "code",
   "execution_count": 216,
   "id": "546f7b24",
   "metadata": {},
   "outputs": [],
   "source": [
    "import pickle\n",
    "pickle.dump(knn, open('knn_model.sav','wb'))"
   ]
  },
  {
   "cell_type": "code",
   "execution_count": null,
   "id": "53cd519c",
   "metadata": {},
   "outputs": [],
   "source": []
  },
  {
   "cell_type": "code",
   "execution_count": 219,
   "id": "9687a717",
   "metadata": {
    "scrolled": true
   },
   "outputs": [],
   "source": [
    "modelo = pickle.load(open('knn_model.sav','rb'))\n",
    "MovieDataset = pd.read_pickle(\"FinalMoviesDataset.pkl\")\n",
    "csr_data = csr_matrix(MovieDataset.values)\n",
    "MovieDataset.reset_index(inplace=True)"
   ]
  },
  {
   "cell_type": "code",
   "execution_count": 220,
   "id": "7b48830c",
   "metadata": {},
   "outputs": [
    {
     "data": {
      "text/html": [
       "<div>\n",
       "<style scoped>\n",
       "    .dataframe tbody tr th:only-of-type {\n",
       "        vertical-align: middle;\n",
       "    }\n",
       "\n",
       "    .dataframe tbody tr th {\n",
       "        vertical-align: top;\n",
       "    }\n",
       "\n",
       "    .dataframe thead th {\n",
       "        text-align: right;\n",
       "    }\n",
       "</style>\n",
       "<table border=\"1\" class=\"dataframe\">\n",
       "  <thead>\n",
       "    <tr style=\"text-align: right;\">\n",
       "      <th></th>\n",
       "      <th>Title</th>\n",
       "      <th>Distance</th>\n",
       "    </tr>\n",
       "  </thead>\n",
       "  <tbody>\n",
       "    <tr>\n",
       "      <th>1</th>\n",
       "      <td>Star Wars: Episode VI - Return of the Jedi (1983)</td>\n",
       "      <td>0.278823</td>\n",
       "    </tr>\n",
       "    <tr>\n",
       "      <th>2</th>\n",
       "      <td>Pulp Fiction (1994)</td>\n",
       "      <td>0.269210</td>\n",
       "    </tr>\n",
       "    <tr>\n",
       "      <th>3</th>\n",
       "      <td>Lord of the Rings: The Return of the King, The...</td>\n",
       "      <td>0.258509</td>\n",
       "    </tr>\n",
       "    <tr>\n",
       "      <th>4</th>\n",
       "      <td>Sixth Sense, The (1999)</td>\n",
       "      <td>0.258391</td>\n",
       "    </tr>\n",
       "    <tr>\n",
       "      <th>5</th>\n",
       "      <td>Gladiator (2000)</td>\n",
       "      <td>0.251706</td>\n",
       "    </tr>\n",
       "    <tr>\n",
       "      <th>6</th>\n",
       "      <td>Star Wars: Episode IV - A New Hope (1977)</td>\n",
       "      <td>0.249922</td>\n",
       "    </tr>\n",
       "    <tr>\n",
       "      <th>7</th>\n",
       "      <td>Star Wars: Episode V - The Empire Strikes Back...</td>\n",
       "      <td>0.249899</td>\n",
       "    </tr>\n",
       "    <tr>\n",
       "      <th>8</th>\n",
       "      <td>Lord of the Rings: The Two Towers, The (2002)</td>\n",
       "      <td>0.238238</td>\n",
       "    </tr>\n",
       "    <tr>\n",
       "      <th>9</th>\n",
       "      <td>Fight Club (1999)</td>\n",
       "      <td>0.215279</td>\n",
       "    </tr>\n",
       "    <tr>\n",
       "      <th>10</th>\n",
       "      <td>Lord of the Rings: The Fellowship of the Ring,...</td>\n",
       "      <td>0.213009</td>\n",
       "    </tr>\n",
       "  </tbody>\n",
       "</table>\n",
       "</div>"
      ],
      "text/plain": [
       "                                                Title  Distance\n",
       "1   Star Wars: Episode VI - Return of the Jedi (1983)  0.278823\n",
       "2                                 Pulp Fiction (1994)  0.269210\n",
       "3   Lord of the Rings: The Return of the King, The...  0.258509\n",
       "4                             Sixth Sense, The (1999)  0.258391\n",
       "5                                    Gladiator (2000)  0.251706\n",
       "6           Star Wars: Episode IV - A New Hope (1977)  0.249922\n",
       "7   Star Wars: Episode V - The Empire Strikes Back...  0.249899\n",
       "8       Lord of the Rings: The Two Towers, The (2002)  0.238238\n",
       "9                                   Fight Club (1999)  0.215279\n",
       "10  Lord of the Rings: The Fellowship of the Ring,...  0.213009"
      ]
     },
     "execution_count": 220,
     "metadata": {},
     "output_type": "execute_result"
    }
   ],
   "source": [
    "\n",
    "def get_movie_recommendation(movie_name):\n",
    "    n_movies_to_reccomend = 10\n",
    "    movie_list = movies[movies['title'].str.contains(movie_name)]\n",
    "    if len(movie_list):        \n",
    "        movie_idx= movie_list.iloc[0]['movieId']\n",
    "        movie_idx = MovieDataset[MovieDataset['movieId'] == movie_idx].index[0]\n",
    "        distances , indices = modelo.kneighbors(csr_data[movie_idx],n_neighbors=n_movies_to_reccomend+1)\n",
    "        rec_movie_indices = sorted(list(zip(indices.squeeze().tolist(),distances.squeeze().tolist())),key=lambda x: x[1])[:0:-1]\n",
    "        recommend_frame = []\n",
    "        for val in rec_movie_indices:\n",
    "            movie_idx = MovieDataset.iloc[val[0]]['movieId']\n",
    "            idx = movies[movies['movieId'] == movie_idx].index\n",
    "            recommend_frame.append({'Title':movies.iloc[idx]['title'].values[0],'Distance':val[1]})\n",
    "        df = pd.DataFrame(recommend_frame,index=range(1,n_movies_to_reccomend+1))\n",
    "        return df\n",
    "    else:\n",
    "        return \"No movies found. Please check your input\"\n",
    "\n",
    "get_movie_recommendation('Matrix')"
   ]
  },
  {
   "cell_type": "code",
   "execution_count": null,
   "id": "b7a0ca54",
   "metadata": {},
   "outputs": [],
   "source": [
    "#usar apenas o CSR matrix e nao o moviedataset"
   ]
  },
  {
   "cell_type": "code",
   "execution_count": 147,
   "id": "c3d0413c",
   "metadata": {},
   "outputs": [],
   "source": [
    "#https://grouplens.org/datasets/movielens/latest/\n"
   ]
  },
  {
   "cell_type": "code",
   "execution_count": 179,
   "id": "fe3cc139",
   "metadata": {},
   "outputs": [
    {
     "name": "stdout",
     "output_type": "stream",
     "text": [
      "<class 'pandas.core.frame.DataFrame'>\n",
      "RangeIndex: 7202 entries, 0 to 7201\n",
      "Columns: 2423 entries, movieId to 10059\n",
      "dtypes: float64(2422), int64(1)\n",
      "memory usage: 133.1 MB\n"
     ]
    }
   ],
   "source": [
    "final_dataset.info()"
   ]
  },
  {
   "cell_type": "code",
   "execution_count": 208,
   "id": "d3d2377e",
   "metadata": {},
   "outputs": [
    {
     "data": {
      "text/plain": [
       "(7202, 2423)"
      ]
     },
     "execution_count": 208,
     "metadata": {},
     "output_type": "execute_result"
    }
   ],
   "source": [
    "final_dataset.reset_index(inplace=False).shape"
   ]
  },
  {
   "cell_type": "code",
   "execution_count": 206,
   "id": "95380187",
   "metadata": {},
   "outputs": [
    {
     "data": {
      "text/plain": [
       "(7202, 2422)"
      ]
     },
     "execution_count": 206,
     "metadata": {},
     "output_type": "execute_result"
    }
   ],
   "source": [
    "final_dataset.values.shape"
   ]
  },
  {
   "cell_type": "code",
   "execution_count": 203,
   "id": "054d7bd4",
   "metadata": {},
   "outputs": [
    {
     "data": {
      "text/plain": [
       "(7202, 2422)"
      ]
     },
     "execution_count": 203,
     "metadata": {},
     "output_type": "execute_result"
    }
   ],
   "source": [
    "csr_matrix(final_dataset.values).shape"
   ]
  },
  {
   "cell_type": "code",
   "execution_count": 212,
   "id": "e26b375d",
   "metadata": {},
   "outputs": [
    {
     "data": {
      "text/plain": [
       "(7202, 2424)"
      ]
     },
     "execution_count": 212,
     "metadata": {},
     "output_type": "execute_result"
    }
   ],
   "source": [
    "MovieDataset.reset_index(inplace=False).shape"
   ]
  },
  {
   "cell_type": "code",
   "execution_count": null,
   "id": "a8e9b61e",
   "metadata": {},
   "outputs": [],
   "source": []
  }
 ],
 "metadata": {
  "kernelspec": {
   "display_name": "Python 3 (ipykernel)",
   "language": "python",
   "name": "python3"
  },
  "language_info": {
   "codemirror_mode": {
    "name": "ipython",
    "version": 3
   },
   "file_extension": ".py",
   "mimetype": "text/x-python",
   "name": "python",
   "nbconvert_exporter": "python",
   "pygments_lexer": "ipython3",
   "version": "3.8.12"
  }
 },
 "nbformat": 4,
 "nbformat_minor": 5
}
